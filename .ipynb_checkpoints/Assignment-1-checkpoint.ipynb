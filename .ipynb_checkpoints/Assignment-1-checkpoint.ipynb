{
 "cells": [
  {
   "cell_type": "code",
   "execution_count": null,
   "id": "2b3027b7",
   "metadata": {},
   "outputs": [],
   "source": [
    "#3 Print First 10 natural numbers using while loop."
   ]
  },
  {
   "cell_type": "code",
   "execution_count": 1,
   "id": "92462bce",
   "metadata": {
    "scrolled": true
   },
   "outputs": [
    {
     "name": "stdout",
     "output_type": "stream",
     "text": [
      "0\n",
      "1\n",
      "2\n",
      "3\n",
      "4\n",
      "5\n",
      "6\n",
      "7\n",
      "8\n",
      "9\n",
      "10\n"
     ]
    }
   ],
   "source": [
    "count = 0\n",
    "while count <= 10:\n",
    "    print(count)\n",
    "    count += +1"
   ]
  },
  {
   "cell_type": "code",
   "execution_count": null,
   "id": "02d0d6d1",
   "metadata": {},
   "outputs": [],
   "source": [
    "# 10. Access value 20 from the following tuple -> "
   ]
  },
  {
   "cell_type": "code",
   "execution_count": 5,
   "id": "96e74769",
   "metadata": {
    "scrolled": true
   },
   "outputs": [
    {
     "name": "stdout",
     "output_type": "stream",
     "text": [
      "20\n"
     ]
    }
   ],
   "source": [
    "aTuple = (\"Orange\", [10, 20, 30], (5, 15, 25))\n",
    "print(aTuple[1][1])"
   ]
  },
  {
   "cell_type": "code",
   "execution_count": null,
   "id": "d4035738",
   "metadata": {},
   "outputs": [],
   "source": [
    "# 9. Given a Python list of numbers. Turn every item of a list into its square"
   ]
  },
  {
   "cell_type": "code",
   "execution_count": 10,
   "id": "3b06865a",
   "metadata": {},
   "outputs": [
    {
     "name": "stdout",
     "output_type": "stream",
     "text": [
      "[900, 8649, 841, 25, 5929, 1444, 1764, 169, 1849, 3844]\n"
     ]
    }
   ],
   "source": [
    "myList = [30, 93, 29, 5, 77, 38, 42, 13, 43, 62]\n",
    "\n",
    "squaredNumber = [x ** 2 for x in myList]\n",
    "\n",
    "print(squaredNumber)\n"
   ]
  },
  {
   "cell_type": "code",
   "execution_count": null,
   "id": "66b5172f",
   "metadata": {},
   "outputs": [],
   "source": [
    "#7. Display “My Name Is James” as “My**Name**Is**James” using output formatting of a print() function\n",
    "# For example: print('My', 'Name', 'Is', 'Tamim') will display MyNameIsJames\n",
    "\n",
    "# So use one of the formatting argument of print() to turn the output into My**Name**Is**Tamim"
   ]
  },
  {
   "cell_type": "code",
   "execution_count": 48,
   "id": "b884d571",
   "metadata": {
    "scrolled": true
   },
   "outputs": [
    {
     "name": "stdout",
     "output_type": "stream",
     "text": [
      "MynameisImtanan\n"
     ]
    }
   ],
   "source": [
    "name = [\"My\" , \"name\", \"is\", \"Imtanan\"]\n",
    "\n",
    "print(f\"{name[0]+ name[1] + name[2]+ name[3]}\")\n"
   ]
  },
  {
   "cell_type": "code",
   "execution_count": null,
   "id": "73365357",
   "metadata": {},
   "outputs": [],
   "source": [
    "LL = 50 , 33, 44, 40, 55, 32, 500, 600, 700, 800, 900, 1200\n"
   ]
  },
  {
   "cell_type": "code",
   "execution_count": 54,
   "id": "d01395ee",
   "metadata": {
    "scrolled": true
   },
   "outputs": [
    {
     "name": "stdout",
     "output_type": "stream",
     "text": [
      "Enter your score: 102\n",
      "Invalid Numbers\n"
     ]
    }
   ],
   "source": [
    "score = float(input(\"Enter your score: \"))\n",
    "\n",
    "if score > 100 or score < 0 :\n",
    "    print(\"Invalid Numbers\")\n",
    "elif score >= 50:    \n",
    "    print(\"Congratulation you have passed the exam.\")\n",
    "else:\n",
    "    print(\" Sorry You faild. Try next time \")"
   ]
  },
  {
   "cell_type": "code",
   "execution_count": 6,
   "id": "9b3b4c23",
   "metadata": {
    "scrolled": true
   },
   "outputs": [
    {
     "name": "stdout",
     "output_type": "stream",
     "text": [
      "Enter a Number: -30\n",
      "The number is negative\n"
     ]
    }
   ],
   "source": [
    "myNumber = float(input(\"Enter a Number: \"))\n",
    "if myNumber < 0:\n",
    "    print(\"The number is negative\")\n",
    "elif myNumber == 0:\n",
    "    print(\"It's a zero.\")\n",
    "else:\n",
    "    print(\"The number is Positive\")"
   ]
  },
  {
   "cell_type": "code",
   "execution_count": 2,
   "id": "b1d9e808",
   "metadata": {},
   "outputs": [
    {
     "name": "stdout",
     "output_type": "stream",
     "text": [
      "Multiplication Of : 5\n",
      "5 x 10 = 50\n",
      "5 x 9 = 45\n",
      "5 x 8 = 40\n",
      "5 x 7 = 35\n",
      "5 x 6 = 30\n",
      "5 x 5 = 25\n",
      "5 x 4 = 20\n",
      "5 x 3 = 15\n",
      "5 x 2 = 10\n",
      "5 x 1 = 5\n"
     ]
    }
   ],
   "source": [
    "number = int(input(\"Multiplication Of : \"))\n",
    "\n",
    "count = 10\n",
    "\n",
    "while count >= 1:\n",
    "    product = number * count\n",
    "    print(number, \"x\" , count, \"=\" , product)\n",
    "    count = count - 1"
   ]
  },
  {
   "cell_type": "code",
   "execution_count": 3,
   "id": "a2c247bb",
   "metadata": {},
   "outputs": [
    {
     "name": "stdout",
     "output_type": "stream",
     "text": [
      "Enter a number: 4\n",
      "4 X 1 = 4\n",
      "4 X 2 = 8\n",
      "4 X 3 = 12\n",
      "4 X 4 = 16\n",
      "4 X 5 = 20\n",
      "4 X 6 = 24\n",
      "4 X 7 = 28\n",
      "4 X 8 = 32\n",
      "4 X 9 = 36\n",
      "4 X 10 = 40\n"
     ]
    }
   ],
   "source": [
    "multiply = int(input(\"Enter a number: \"))\n",
    "\n",
    "i = 1\n",
    "\n",
    "while i<=10:\n",
    "    pp = multiply * i\n",
    "    print(multiply, \"X\" , i, \"=\" , pp)\n",
    "    i = i+1"
   ]
  },
  {
   "cell_type": "code",
   "execution_count": 6,
   "id": "21628450",
   "metadata": {},
   "outputs": [
    {
     "name": "stdout",
     "output_type": "stream",
     "text": [
      "Enter a number: 6\n",
      "6 X 1 = 6\n",
      "6 X 2 = 12\n",
      "6 X 3 = 18\n",
      "6 X 4 = 24\n",
      "6 X 5 = 30\n",
      "6 X 6 = 36\n",
      "6 X 7 = 42\n",
      "6 X 8 = 48\n",
      "6 X 9 = 54\n",
      "6 X 10 = 60\n"
     ]
    }
   ],
   "source": [
    "digits = int(input(\"Enter a number: \"))\n",
    "\n",
    "for count in range(1, 11):\n",
    "    product = digits * count\n",
    "    print(digits, \"X\" , count, \"=\" , product)\n"
   ]
  },
  {
   "cell_type": "code",
   "execution_count": 10,
   "id": "cf063290",
   "metadata": {},
   "outputs": [
    {
     "name": "stdout",
     "output_type": "stream",
     "text": [
      "XXXXXX\n",
      "XX\n",
      "XXXXXX\n",
      "XX\n",
      "XX\n"
     ]
    }
   ],
   "source": [
    "num = [6 , 2, 6, 2, 2]\n",
    "\n",
    "for items in num:\n",
    "    output = \"\"\n",
    "    for count in range(items):\n",
    "        output += \"X\"\n",
    "    print(output)    \n",
    "        \n"
   ]
  },
  {
   "cell_type": "code",
   "execution_count": 12,
   "id": "7c4eaf2e",
   "metadata": {
    "scrolled": true
   },
   "outputs": [
    {
     "name": "stdout",
     "output_type": "stream",
     "text": [
      "5050\n"
     ]
    }
   ],
   "source": [
    "\n",
    "\n"
   ]
  },
  {
   "cell_type": "code",
   "execution_count": null,
   "id": "8402fb59",
   "metadata": {},
   "outputs": [],
   "source": [
    "# Create a program to find the sum numbers (1 t0 100) "
   ]
  },
  {
   "cell_type": "code",
   "execution_count": 13,
   "id": "b248e144",
   "metadata": {},
   "outputs": [
    {
     "name": "stdout",
     "output_type": "stream",
     "text": [
      "5050\n"
     ]
    }
   ],
   "source": [
    "total = 0\n",
    "\n",
    "for i in range(1, 101):\n",
    "    total = total + i\n",
    "print(total)"
   ]
  },
  {
   "cell_type": "code",
   "execution_count": null,
   "id": "c74266bb",
   "metadata": {},
   "outputs": [],
   "source": [
    "# Given a range of the first 10 numbers, Iterate from the start number to the end number, and In each iteration print the sum\n",
    "# of the current number and previous number"
   ]
  },
  {
   "cell_type": "code",
   "execution_count": 22,
   "id": "9c082580",
   "metadata": {},
   "outputs": [
    {
     "name": "stdout",
     "output_type": "stream",
     "text": [
      "1\n",
      "3\n",
      "6\n",
      "10\n",
      "15\n",
      "21\n",
      "28\n",
      "36\n",
      "45\n",
      "55\n"
     ]
    }
   ],
   "source": [
    "sum = 0\n",
    "\n",
    "for i in range(1, 11):\n",
    "    sum = sum + i\n",
    "    print(sum)    "
   ]
  },
  {
   "cell_type": "code",
   "execution_count": 25,
   "id": "7eba8554",
   "metadata": {},
   "outputs": [
    {
     "name": "stdout",
     "output_type": "stream",
     "text": [
      "1\n",
      "3\n",
      "6\n",
      "10\n",
      "15\n",
      "21\n",
      "28\n",
      "36\n",
      "45\n",
      "55\n",
      "66\n",
      "78\n",
      "91\n",
      "105\n",
      "120\n",
      "136\n",
      "153\n",
      "171\n",
      "190\n"
     ]
    }
   ],
   "source": [
    "addition = 0\n",
    "for x in range(1, 20):\n",
    "    addition = addition + x\n",
    "    print(addition)"
   ]
  },
  {
   "cell_type": "code",
   "execution_count": null,
   "id": "308bcec3",
   "metadata": {},
   "outputs": [],
   "source": [
    "# 4. Accept number from user and calculate the sum of all number from 1 to a given number"
   ]
  },
  {
   "cell_type": "code",
   "execution_count": 5,
   "id": "80f4dda9",
   "metadata": {},
   "outputs": [
    {
     "name": "stdout",
     "output_type": "stream",
     "text": [
      "Enter a number: 10\n",
      "1\n",
      "3\n",
      "6\n",
      "10\n",
      "15\n",
      "21\n",
      "28\n",
      "36\n",
      "45\n"
     ]
    }
   ],
   "source": [
    "given_number = int(input(\"Enter a number: \"))\n",
    "add_value = 0\n",
    "for i in range(1, given_number):\n",
    "    add_value = add_value + i\n",
    "    print(add_value)"
   ]
  },
  {
   "cell_type": "code",
   "execution_count": null,
   "id": "f9a4b0e2",
   "metadata": {},
   "outputs": [],
   "source": [
    "# 5. Given a list,  it, and display numbers divisible by five, and if you find a number greater than 150,\n",
    "# stop the loop iteration."
   ]
  },
  {
   "cell_type": "code",
   "execution_count": 24,
   "id": "f49c09d6",
   "metadata": {
    "scrolled": false
   },
   "outputs": [
    {
     "name": "stdout",
     "output_type": "stream",
     "text": [
      "20\n",
      "50\n",
      "70\n",
      "80\n",
      "15\n",
      "120\n",
      "140\n"
     ]
    }
   ],
   "source": [
    "gl = [149, 20, 50, 9, 70, 80, 15, 120, 33, 140, 600, 900, 99, 1200, 130, 145, 149]\n",
    "\n",
    "box = \"\"\n",
    "for number in gl:\n",
    "    if(number % 5 == 0):\n",
    "        box = +number\n",
    "        if box >= 150:\n",
    "            break\n",
    "        print(box)\n",
    "\n",
    "        \n",
    "   \n"
   ]
  },
  {
   "cell_type": "code",
   "execution_count": null,
   "id": "eca2805d",
   "metadata": {},
   "outputs": [],
   "source": []
  }
 ],
 "metadata": {
  "kernelspec": {
   "display_name": "Python 3 (ipykernel)",
   "language": "python",
   "name": "python3"
  },
  "language_info": {
   "codemirror_mode": {
    "name": "ipython",
    "version": 3
   },
   "file_extension": ".py",
   "mimetype": "text/x-python",
   "name": "python",
   "nbconvert_exporter": "python",
   "pygments_lexer": "ipython3",
   "version": "3.9.7"
  }
 },
 "nbformat": 4,
 "nbformat_minor": 5
}
