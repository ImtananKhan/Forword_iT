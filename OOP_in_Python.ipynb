{
 "cells": [
  {
   "cell_type": "code",
   "execution_count": 3,
   "id": "f4b99bd9",
   "metadata": {},
   "outputs": [
    {
     "name": "stdout",
     "output_type": "stream",
     "text": [
      "True\n",
      "You are not aligible for marrige\n",
      "False\n",
      "you are aligible for marrige\n"
     ]
    }
   ],
   "source": [
    "class Student_data_vase:\n",
    "    def check_pass_fail(self):\n",
    "        if self.marks >= 40:\n",
    "            return True\n",
    "        else:\n",
    "            return False\n",
    "    def check_aligibility(self):\n",
    "        if self.age >= 18:\n",
    "            return \"you are aligible for marrige\"\n",
    "        else:\n",
    "            return \"You are not aligible for marrige\"\n",
    "        \n",
    "    \n",
    "    def __init__(self, name, marks, age):\n",
    "        self.name = name\n",
    "        self.marks = marks\n",
    "        self.age = age\n",
    "        \n",
    "student1 = Student_data_vase(\"Imtanan\" , 85, 16)\n",
    "student2 = Student_data_vase(\"Saver\" , 34, 22)\n",
    "\n",
    "did_pass = student1.check_pass_fail()\n",
    "m = student1.check_aligibility()\n",
    "print(did_pass)\n",
    "print(m)\n",
    "did_pass = student2.check_pass_fail()\n",
    "m = student2.check_aligibility() \n",
    "print(did_pass)\n",
    "print(m)\n",
    "\n"
   ]
  },
  {
   "cell_type": "code",
   "execution_count": 2,
   "id": "aadceb9c",
   "metadata": {},
   "outputs": [
    {
     "name": "stdout",
     "output_type": "stream",
     "text": [
      "Real =  14\n",
      "Imag =  3\n"
     ]
    }
   ],
   "source": [
    "class Complex():\n",
    "    def __init__(self, real, imag):\n",
    "        self.real= real\n",
    "        self.imag = imag\n",
    "        \n",
    "    def add(self, number):\n",
    "        real = self.real + number.real\n",
    "        imag = self.imag + number.imag\n",
    "        result = Complex(real, imag)\n",
    "        return result\n",
    "n1 = Complex(6, 8)\n",
    "n2 = Complex(8, -5)\n",
    "\n",
    "result = n1.add(n2)\n",
    "\n",
    "print(\"Real = \", result.real)\n",
    "print(\"Imag = \", result.imag)\n",
    "\n"
   ]
  },
  {
   "cell_type": "code",
   "execution_count": 13,
   "id": "aa643e39",
   "metadata": {},
   "outputs": [
    {
     "name": "stdout",
     "output_type": "stream",
     "text": [
      "Karim  | 25\n",
      "Karim  | 26\n",
      "Karim  | 27\n"
     ]
    }
   ],
   "source": [
    "class Person():\n",
    "    def __init__(self, name, age):\n",
    "        self.name = name\n",
    "        self.age = age\n",
    "    #def details(self):\n",
    "    #    print(self.name, self.age, sep= \" | \")\n",
    "        \n",
    "people_list = []\n",
    "\n",
    "for x in range(0, 3):\n",
    "    person = Person(\"Karim \", 25+x)\n",
    "    people_list.append(person)\n",
    "    \n",
    "for x in people_list:\n",
    "    #x.details()\n",
    "    \n",
    "    "
   ]
  },
  {
   "cell_type": "code",
   "execution_count": null,
   "id": "077e4699",
   "metadata": {},
   "outputs": [],
   "source": [
    "# Make a program that takes information from the user and through a decision that is you are applicable for\n",
    "# taking admission in the university and waiver percentage"
   ]
  },
  {
   "cell_type": "code",
   "execution_count": 16,
   "id": "dfedef18",
   "metadata": {},
   "outputs": [
    {
     "name": "stdout",
     "output_type": "stream",
     "text": [
      "8\n",
      "You are Eligible for admission\n",
      "75000.0\n"
     ]
    }
   ],
   "source": [
    "class student_database():\n",
    "    def __init__(self, name, SSC_GPA, HSC_GPA):\n",
    "        self.name = name\n",
    "        self.SSC_GPA = SSC_GPA\n",
    "        self.HSC_GPA = HSC_GPA\n",
    "        \n",
    "        \n",
    "    def stu_total_point(self):\n",
    "        total_point = self.SSC_GPA + self.HSC_GPA\n",
    "        self.total_point = total_point\n",
    "        return total_point\n",
    "    \n",
    "    def admission_eligibility(self):\n",
    "        if self.total_point >= 5:\n",
    "            return(\"You are Eligible for admission\")\n",
    "        else:\n",
    "            return(\"You are not Eligible for admission\")\n",
    "  \n",
    "\n",
    "    # Checking waver eligibility and waver parcentage   \n",
    "    # if Total Point == 10, get 100% waver\n",
    "    # if Total Point>= 9, get 50% waver\n",
    "    # if Total Point >= 8 get 25% waver\n",
    "   \n",
    "    \n",
    "    def checking_waver(self):\n",
    "        if self.total_point == 10:\n",
    "            admission_fee = 0\n",
    "            self.admission_fee = admission_fee\n",
    "            return admission_fee\n",
    "        elif self.total_point >= 9:\n",
    "            admission_fee = 100000 - (100000 * 50) / 100 \n",
    "            self.admission_fee = admission_fee\n",
    "            return admission_fee\n",
    "        elif self.total_point >=8:\n",
    "            admission_fee = 100000 - (100000 * 25) / 100  \n",
    "            self.admission_fee = admission_fee\n",
    "            return admission_fee\n",
    "        else:\n",
    "            admission_fee = 100000\n",
    "            self.admission_fee = admission_fee\n",
    "            return admission_fee\n",
    "    \n",
    "            \n",
    "student1 = student_database(\"Imtanan\" , 4, 4)\n",
    "TotalPoint = student1.stu_total_point()\n",
    "print(TotalPoint)\n",
    "Adm_eligibility_check = student1.admission_eligibility() \n",
    "print(Adm_eligibility_check)\n",
    "waver = student1.checking_waver()\n",
    "print(waver)\n"
   ]
  },
  {
   "cell_type": "code",
   "execution_count": 117,
   "id": "2d34f31a",
   "metadata": {},
   "outputs": [
    {
     "name": "stdout",
     "output_type": "stream",
     "text": [
      "Enter Your Name: Imtanan\n",
      "Enter Your SSC GPA: 4.5\n",
      "Enter Your HSC GPA: 4\n",
      "{'Name': 'Imtanan', 'SSC GPA': '4.5', 'HSC GPA': '4'}\n"
     ]
    }
   ],
   "source": [
    "# Get Values from User and making a database for student\n",
    "\n",
    "info_list = [\"Name\", \"SSC GPA\", \"HSC GPA\"]\n",
    "user_info_list = []\n",
    "for key in info_list:\n",
    "    user_value = input(f\"Enter Your {key}: \")\n",
    "    user_info_list.append(user_value)\n",
    "\n",
    "# Make a dictionaries using user info list \n",
    "\n",
    "student_info = {}\n",
    "\n",
    "for i in range(len(info_list)):\n",
    "    student_info[info_list[i]] = user_info_list[i]\n",
    "print(student_info)    \n",
    "\n"
   ]
  },
  {
   "cell_type": "code",
   "execution_count": 19,
   "id": "14e78624",
   "metadata": {},
   "outputs": [],
   "source": [
    "# Cheaking wever "
   ]
  },
  {
   "cell_type": "code",
   "execution_count": 118,
   "id": "3ec91ed4",
   "metadata": {},
   "outputs": [],
   "source": [
    "def get_total_cgpa():\n",
    "    total_cgpa = float(student_info[\"SSC GPA\"]) + float(student_info[\"HSC GPA\"])\n",
    "    return total_cgpa\n",
    "Student_Gpa = get_total_cgpa()\n"
   ]
  },
  {
   "cell_type": "code",
   "execution_count": 119,
   "id": "c536c9a2",
   "metadata": {},
   "outputs": [
    {
     "name": "stdout",
     "output_type": "stream",
     "text": [
      "75000.0\n"
     ]
    }
   ],
   "source": [
    "def checking_waiver():\n",
    "    if Student_Gpa == 10:\n",
    "        admission_fee = 100000 - (100000 * 100) / 100\n",
    "        return admission_fee\n",
    "    elif Student_Gpa >= 9:\n",
    "        admission_fee = 100000 - (100000 * 50) / 100\n",
    "        return admission_fee\n",
    "    elif Student_Gpa >= 8:\n",
    "        admission_fee = 100000 - (100000 * 25) / 100\n",
    "        return admission_fee\n",
    "    elif Student_Gpa >= 5:\n",
    "        admission_fee = 100000\n",
    "        return admission_fee\n",
    "    else:\n",
    "        admission_fee = -1\n",
    "        return admission_fee\n",
    "    \n",
    "get_waiver = checking_waiver()\n",
    "\n",
    "print(get_waiver)\n",
    "    "
   ]
  },
  {
   "cell_type": "code",
   "execution_count": 116,
   "id": "fd3821dc",
   "metadata": {},
   "outputs": [
    {
     "name": "stdout",
     "output_type": "stream",
     "text": [
      "You have to pay 100000 taka for admission to our university\n"
     ]
    }
   ],
   "source": [
    "def show_payment():\n",
    "    if get_waiver == 0:\n",
    "        return \"Congratulation You got 100% waiver.\\n You do not have to pay any money for admission to our university\"\n",
    "    elif get_waiver == 50000:\n",
    "        return f\"Congratulation You got 50% waiver.\\n You have to pay only {get_waiver} taka for admission to our university\"\n",
    "    elif get_waiver == 75000:\n",
    "         return f\"Congratulation You got 25% waiver.\\n You have to pay only {get_waiver} taka for admission to our university\"\n",
    "    elif get_waiver == -1:\n",
    "         return f\"Sorry you do not have enough CGPA to take admission in our university\"    \n",
    "    else:\n",
    "        return f\"You have to pay {get_waiver} taka for admission to our university\"\n",
    "        \n",
    "Payment = show_payment()\n",
    "print(Payment)"
   ]
  },
  {
   "cell_type": "code",
   "execution_count": null,
   "id": "a9014704",
   "metadata": {},
   "outputs": [],
   "source": []
  }
 ],
 "metadata": {
  "kernelspec": {
   "display_name": "Python 3 (ipykernel)",
   "language": "python",
   "name": "python3"
  },
  "language_info": {
   "codemirror_mode": {
    "name": "ipython",
    "version": 3
   },
   "file_extension": ".py",
   "mimetype": "text/x-python",
   "name": "python",
   "nbconvert_exporter": "python",
   "pygments_lexer": "ipython3",
   "version": "3.9.7"
  }
 },
 "nbformat": 4,
 "nbformat_minor": 5
}
