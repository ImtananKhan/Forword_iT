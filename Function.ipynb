{
 "cells": [
  {
   "cell_type": "code",
   "execution_count": 3,
   "id": "c19bae6c",
   "metadata": {},
   "outputs": [],
   "source": [
    "def greet(name):\n",
    "    print(\"Hello\" , name)\n",
    "    print(\"How do you do..\")\n",
    "   "
   ]
  },
  {
   "cell_type": "code",
   "execution_count": 4,
   "id": "3e516d34",
   "metadata": {},
   "outputs": [
    {
     "name": "stdout",
     "output_type": "stream",
     "text": [
      "Hello Imtanan\n",
      "How do you do..\n"
     ]
    }
   ],
   "source": [
    "greet(\"Imtanan\")"
   ]
  },
  {
   "cell_type": "code",
   "execution_count": 14,
   "id": "b22ac15b",
   "metadata": {},
   "outputs": [
    {
     "name": "stdout",
     "output_type": "stream",
     "text": [
      "The sum is =  13.0\n"
     ]
    }
   ],
   "source": [
    "def add_numbers(n1, n2):\n",
    "    result = (n1 + n2)\n",
    "    return result\n",
    "\n",
    "number1 = 5.5\n",
    "number2 = 7.5\n",
    "\n",
    "result = add_numbers(number1 , number2)\n",
    "print(\"The sum is = \" , result )\n"
   ]
  },
  {
   "cell_type": "code",
   "execution_count": null,
   "id": "7e9aa9f0",
   "metadata": {},
   "outputs": [],
   "source": [
    "# Function to get average marks"
   ]
  },
  {
   "cell_type": "code",
   "execution_count": 18,
   "id": "4d2dfc48",
   "metadata": {},
   "outputs": [
    {
     "name": "stdout",
     "output_type": "stream",
     "text": [
      "Your average marks is:  67.5\n",
      "Your CGPA grade is:  B\n"
     ]
    }
   ],
   "source": [
    "def find_average_marks(marks):\n",
    "    sum_of_marks = sum(marks)\n",
    "    total_subjects = len(marks)\n",
    "    average_marks = sum_of_marks / total_subjects\n",
    "    return average_marks\n",
    "\n",
    "# Calculate the grade and return it\n",
    "\n",
    "def compute_grade(average_marks):\n",
    "    if average_marks >= 80:\n",
    "        grade = \"A+\"\n",
    "    elif average_marks >= 70:\n",
    "        grade = \"A\"\n",
    "    elif average_marks >= 60:\n",
    "        grade = \"B\"\n",
    "    elif average_marks >= 50:\n",
    "        grade = \"C\"\n",
    "    elif average_marks >= 40:\n",
    "        grade = \"D\"\n",
    "    else:\n",
    "        grade = \"F\"\n",
    "    return grade    \n",
    "        \n",
    "\n",
    "marks = [80 , 60, 70, 75, 55, 65]\n",
    "\n",
    "average_marks =  find_average_marks(marks)\n",
    "\n",
    "print(\"Your average marks is: \" , average_marks)\n",
    "\n",
    "grade = compute_grade(average_marks)\n",
    "\n",
    "print(\"Your CGPA grade is: \" , grade)\n",
    "\n"
   ]
  },
  {
   "cell_type": "code",
   "execution_count": 7,
   "id": "2adea1c6",
   "metadata": {},
   "outputs": [
    {
     "name": "stdout",
     "output_type": "stream",
     "text": [
      "Enter Your marks for Bangla: 40\n",
      "Enter Your marks for English: 50\n",
      "Enter Your marks for Math: 60\n",
      "Enter Your marks for Physices: 40\n",
      "Enter Your marks for Chamistry: 30\n",
      "User list is [40, 50, 60, 40, 30]\n"
     ]
    }
   ],
   "source": [
    "sub_list = [\"Bangla\" , \"English\" , \"Math\" , \"Physices\" , \"Chamistry\" ]\n",
    "\n",
    "sub_marks = []\n",
    "\n",
    "for subject in sub_list:\n",
    "    item = int(input(f\"Enter Your marks for {subject}: \"))\n",
    "    sub_marks.append(item)\n",
    "print(\"User list is\" , sub_marks)    "
   ]
  },
  {
   "cell_type": "code",
   "execution_count": 1,
   "id": "84228ddb",
   "metadata": {},
   "outputs": [
    {
     "name": "stdout",
     "output_type": "stream",
     "text": [
      "Enter the list size 5\n",
      "\n",
      "\n",
      "Enter number at index 0\n",
      "50\n",
      "Enter number at index 1\n",
      "60\n",
      "Enter number at index 2\n",
      "70\n",
      "Enter number at index 3\n",
      "80\n",
      "Enter number at index 4\n",
      "65\n",
      "User list is  [50, 60, 70, 80, 65]\n"
     ]
    }
   ],
   "source": [
    "number_list = []\n",
    "n = int(input(\"Enter the list size \"))\n",
    "\n",
    "print(\"\\n\")\n",
    "for i in range(0, n):\n",
    "    print(\"Enter number at index\", i, )\n",
    "    item = int(input())\n",
    "    number_list.append(item)\n",
    "print(\"User list is \", number_list)\n"
   ]
  },
  {
   "cell_type": "code",
   "execution_count": 9,
   "id": "1be2350e",
   "metadata": {},
   "outputs": [
    {
     "name": "stdout",
     "output_type": "stream",
     "text": [
      "5\n"
     ]
    }
   ],
   "source": [
    "marks = len(sub_marks)\n",
    "print(marks)"
   ]
  },
  {
   "cell_type": "code",
   "execution_count": null,
   "id": "5c2b5d26",
   "metadata": {},
   "outputs": [],
   "source": [
    "# Create a program through which you can take subject numbers from the user for certain subjects and determine the\n",
    "# average of the numbers and find out the grading points according to the average number."
   ]
  },
  {
   "cell_type": "code",
   "execution_count": 19,
   "id": "8570c29d",
   "metadata": {},
   "outputs": [],
   "source": [
    "sub_list = [\"Math\" , \"English\" , \"Bangla\" , \"Arabic\" , \"Hadis\" , \"Physics\" , \"Chamistry\" , \"Biology\"]"
   ]
  },
  {
   "cell_type": "code",
   "execution_count": 20,
   "id": "aa070135",
   "metadata": {
    "scrolled": true
   },
   "outputs": [
    {
     "name": "stdout",
     "output_type": "stream",
     "text": [
      "Enter how much you got in Math: 80\n",
      "Enter how much you got in English: 85\n",
      "Enter how much you got in Bangla: 65\n",
      "Enter how much you got in Arabic: 75\n",
      "Enter how much you got in Hadis: 90\n",
      "Enter how much you got in Physics: 75\n",
      "Enter how much you got in Chamistry: 70\n",
      "Enter how much you got in Biology: 85\n"
     ]
    }
   ],
   "source": [
    "marks_according_to_subject = []\n",
    " \n",
    "for sub_marks in sub_list:\n",
    "    marks = int(input(f\"Enter how much you got in {sub_marks}: \"))\n",
    "    marks_according_to_subject.append(marks)\n",
    "\n"
   ]
  },
  {
   "cell_type": "code",
   "execution_count": null,
   "id": "c9a5ba5a",
   "metadata": {},
   "outputs": [],
   "source": [
    "# Function to get average marks"
   ]
  },
  {
   "cell_type": "code",
   "execution_count": 21,
   "id": "280d1c38",
   "metadata": {},
   "outputs": [],
   "source": [
    "def find_average_marks(marks_according_to_subject):\n",
    "    sum_of_marks = sum(marks_according_to_subject)\n",
    "    total_subject = len(marks_according_to_subject)\n",
    "    average_marks = sum_of_marks / total_subject\n",
    "    return average_marks\n"
   ]
  },
  {
   "cell_type": "code",
   "execution_count": null,
   "id": "dfe18bbf",
   "metadata": {},
   "outputs": [],
   "source": [
    "# Calculate the grade and return it"
   ]
  },
  {
   "cell_type": "code",
   "execution_count": 22,
   "id": "66f32605",
   "metadata": {},
   "outputs": [],
   "source": [
    "def compute_grade(average_marks):\n",
    "    if average_marks >= 80:\n",
    "        grade = \"A+\"\n",
    "    elif average_marks >= 70:\n",
    "        grade = \"A\"\n",
    "    elif average_marks >= 60:\n",
    "        grade = \"B\"\n",
    "    elif average_marks >= 50:\n",
    "        grade = \"C\"\n",
    "    elif average_marks >= 40:\n",
    "        grade = \"D\"\n",
    "    else:\n",
    "        grade = \"F\"\n",
    "        \n",
    "    return grade\n",
    "\n"
   ]
  },
  {
   "cell_type": "code",
   "execution_count": 23,
   "id": "03c002ae",
   "metadata": {},
   "outputs": [
    {
     "name": "stdout",
     "output_type": "stream",
     "text": [
      "Your average marks is 78.125\n",
      "Your CGPA grading is:  A\n"
     ]
    }
   ],
   "source": [
    "average_marks = find_average_marks(marks_according_to_subject)\n",
    "print(\"Your average marks is\" , average_marks)\n",
    "\n",
    "grade = compute_grade(average_marks)\n",
    "\n",
    "print(\"Your CGPA grading is: \" , grade)"
   ]
  },
  {
   "cell_type": "code",
   "execution_count": null,
   "id": "87e22c7a",
   "metadata": {},
   "outputs": [],
   "source": []
  }
 ],
 "metadata": {
  "kernelspec": {
   "display_name": "Python 3 (ipykernel)",
   "language": "python",
   "name": "python3"
  },
  "language_info": {
   "codemirror_mode": {
    "name": "ipython",
    "version": 3
   },
   "file_extension": ".py",
   "mimetype": "text/x-python",
   "name": "python",
   "nbconvert_exporter": "python",
   "pygments_lexer": "ipython3",
   "version": "3.9.7"
  }
 },
 "nbformat": 4,
 "nbformat_minor": 5
}
